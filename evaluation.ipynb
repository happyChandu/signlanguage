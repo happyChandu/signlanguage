{
  "nbformat": 4,
  "nbformat_minor": 0,
  "metadata": {
    "colab": {
      "provenance": []
    },
    "kernelspec": {
      "name": "python3",
      "display_name": "Python 3"
    },
    "language_info": {
      "name": "python"
    },
    "accelerator": "GPU",
    "gpuClass": "standard"
  },
  "cells": [
    {
      "cell_type": "code",
      "execution_count": 1,
      "metadata": {
        "id": "pGCpt51xC7TY"
      },
      "outputs": [],
      "source": [
        "import zipfile\n",
        "zip_ref = zipfile.ZipFile(\"/content/drive/MyDrive/project/archive.zip\")\n",
        "zip_ref.extractall()\n",
        "zip_ref.close()"
      ]
    },
    {
      "cell_type": "code",
      "source": [
        "import tensorflow as tf"
      ],
      "metadata": {
        "id": "l9JF8X_ZEMvG"
      },
      "execution_count": 3,
      "outputs": []
    },
    {
      "cell_type": "code",
      "source": [
        "model_0 = tf.keras.models.load_model(\"/content/drive/MyDrive/project/model_0\")\n",
        "model_1 = tf.keras.models.load_model(\"/content/drive/MyDrive/project/model_1\")\n",
        "model_2_1 = tf.keras.models.load_model(\"/content/drive/MyDrive/project/model_2_1\")\n",
        "model_2_2 = tf.keras.models.load_model(\"/content/drive/MyDrive/project/model_2_2\")\n",
        "model_2_3 = tf.keras.models.load_model(\"/content/drive/MyDrive/project/model_2_3\")\n",
        "model_3 = tf.keras.models.load_model(\"/content/drive/MyDrive/project/model_3\")\n",
        "model_3N = tf.keras.models.load_model(\"/content/drive/MyDrive/project/model_3N\")\n",
        "model_4 = tf.keras.models.load_model(\"/content/drive/MyDrive/project/model_4\")\n",
        "model_5 = tf.keras.models.load_model(\"/content/drive/MyDrive/project/model_5\")"
      ],
      "metadata": {
        "id": "Kd-Z-Y9mEHa9"
      },
      "execution_count": null,
      "outputs": []
    },
    {
      "cell_type": "code",
      "source": [
        "model_6 = tf.keras.models.load_model(\"/content/drive/MyDrive/project/model_6\")\n",
        "model_7 = tf.keras.models.load_model(\"/content/drive/MyDrive/project/model_7\")\n",
        "model_8 = tf.keras.models.load_model(\"/content/drive/MyDrive/project/model_8\")\n",
        "model_9 = tf.keras.models.load_model(\"/content/drive/MyDrive/project/model_9\")\n",
        "model_10 = tf.keras.models.load_model(\"/content/drive/MyDrive/project/model_10\")"
      ],
      "metadata": {
        "id": "1eGkJrT7Fr7C"
      },
      "execution_count": 5,
      "outputs": []
    },
    {
      "cell_type": "code",
      "source": [
        "test_data = tf.keras.preprocessing.image_dataset_from_directory(\n",
        "    \"/content/asl_alphabet_train/asl_alphabet_train\", \n",
        "    label_mode='categorical', \n",
        "    image_size=(200, 200), \n",
        "    seed=42, \n",
        "    validation_split=0.2,\n",
        "    subset=\"validation\", \n",
        ")"
      ],
      "metadata": {
        "colab": {
          "base_uri": "https://localhost:8080/"
        },
        "id": "TfSb0QM6ErLl",
        "outputId": "bd85f188-78f1-4a82-a900-a22ed3b916e9"
      },
      "execution_count": 6,
      "outputs": [
        {
          "output_type": "stream",
          "name": "stdout",
          "text": [
            "Found 87000 files belonging to 29 classes.\n",
            "Using 17400 files for validation.\n"
          ]
        }
      ]
    },
    {
      "cell_type": "code",
      "source": [
        "len(test_data)"
      ],
      "metadata": {
        "colab": {
          "base_uri": "https://localhost:8080/"
        },
        "id": "XNk0hA6mEjuX",
        "outputId": "4e6fd292-afab-4bde-f71e-2d5eb8bd7ff7"
      },
      "execution_count": 7,
      "outputs": [
        {
          "output_type": "execute_result",
          "data": {
            "text/plain": [
              "544"
            ]
          },
          "metadata": {},
          "execution_count": 7
        }
      ]
    },
    {
      "cell_type": "code",
      "source": [
        "eval_0 = model_0.evaluate(test_data)\n",
        "eval_1 = model_1.evaluate(test_data)\n",
        "eval_2_1 = model_2_1.evaluate(test_data)\n",
        "eval_2_2 = model_2_2.evaluate(test_data)\n",
        "eval_2_3 = model_2_3.evaluate(test_data)\n",
        "eval_3 = model_3.evaluate(test_data)\n",
        "eval_3N = model_3N.evaluate(test_data) \n",
        "eval_4 = model_4.evaluate(test_data) \n",
        "eval_5 = model_5.evaluate(test_data) \n",
        "eval_6 = model_6.evaluate(test_data) \n",
        "eval_7 = model_7.evaluate(test_data) \n",
        "eval_8 = model_8.evaluate(test_data) \n",
        "eval_9 = model_9.evaluate(test_data) \n",
        "eval_10 = model_10.evaluate(test_data) "
      ],
      "metadata": {
        "colab": {
          "base_uri": "https://localhost:8080/"
        },
        "id": "6OPB_QUtEwMo",
        "outputId": "dd780c25-4516-416e-d7fb-1fa8887516e5"
      },
      "execution_count": 8,
      "outputs": [
        {
          "output_type": "stream",
          "name": "stdout",
          "text": [
            "544/544 [==============================] - 29s 44ms/step - loss: 1.7268 - accuracy: 0.3879\n",
            "544/544 [==============================] - 12s 23ms/step - loss: 0.8371 - accuracy: 0.7279\n",
            "544/544 [==============================] - 13s 23ms/step - loss: 0.8192 - accuracy: 0.7397\n",
            "544/544 [==============================] - 13s 23ms/step - loss: 1.6352 - accuracy: 0.4703\n",
            "544/544 [==============================] - 12s 22ms/step - loss: 1.1773 - accuracy: 0.5970\n",
            "544/544 [==============================] - 16s 24ms/step - loss: 0.2375 - accuracy: 0.9253\n",
            "544/544 [==============================] - 13s 23ms/step - loss: 0.1282 - accuracy: 0.9559\n",
            "544/544 [==============================] - 13s 23ms/step - loss: 0.0996 - accuracy: 0.9677\n",
            "544/544 [==============================] - 34s 58ms/step - loss: 0.0062 - accuracy: 0.9994\n",
            "544/544 [==============================] - 50s 88ms/step - loss: 0.0215 - accuracy: 0.9957\n",
            "544/544 [==============================] - 48s 87ms/step - loss: 0.0215 - accuracy: 0.9957\n",
            "544/544 [==============================] - 33s 58ms/step - loss: 0.0781 - accuracy: 0.9921\n",
            "544/544 [==============================] - 33s 59ms/step - loss: 0.1102 - accuracy: 0.9888\n",
            "544/544 [==============================] - 33s 58ms/step - loss: 0.2888 - accuracy: 0.9629\n"
          ]
        }
      ]
    },
    {
      "cell_type": "markdown",
      "source": [
        "* model_0: A simple ANN with 1 input layer, two dense layers and 1 output layer (training size: 69600 images)\n",
        "* model_1: adding more layers to model_0 (training size: 69600 images)\n",
        "* model_2_1: same as model_1 but with tanh activation function and SGD optimizer (training size: 69600 images)\n",
        "* model_2_2: same as model_1 but with tanh activation function and Adam optimizer (training size: 69600 images)\n",
        "* model_2_2: same as model_1 but with tanh activation function and Adam optimizer (training size: 69600 images)\n",
        "* model_2_3: same as model_1 but with sigmoid activation function and Adam optimizer (training size: 69600 images)\n",
        "* model_3: Adding convolution and pooling layers to model_1 (training size: 69600 images)\n",
        "* model_3N: same as model_3 but with normalized train data (training size: 69600 images)\n",
        "* model_4: adjusting some layers in model_3N (training size: 69600 images)\n",
        "* model_5: Transfer Learning using efficientnetb0\n",
        "only feature extraction (training size: 69600 images) \n",
        "* model_6: Transfer Learning using resnet50v2\n",
        "only feature extraction (training size: 69600 images)\n",
        "* model_7: fine-tuning model_6 (training size: 69600 images)\n",
        "* model_8: same as model_5 but with 50% less train data (training size: 34800 images)\n",
        "* model_9: same as model_5 but with 25% of train data (training size: 17400 images)\n",
        "* model_10: same as model_5 but with %10 of train data (training size: 6960 images)\n"
      ],
      "metadata": {
        "id": "ayGwVGRFE4wD"
      }
    },
    {
      "cell_type": "code",
      "source": [
        "import pandas as pd\n",
        "df = pd.DataFrame()"
      ],
      "metadata": {
        "id": "hZ_K0-lCFzMM"
      },
      "execution_count": 12,
      "outputs": []
    },
    {
      "cell_type": "code",
      "source": [
        "df['models'] = [\n",
        "    'model_0', 'model_1', 'model_2_1', \n",
        "    'model_2_2', 'model_2_3', 'model_3', \n",
        "    'model_3N', 'model_4', 'model_5', \n",
        "    'model_6', 'model_7', 'model_8', \n",
        "    'model_9', 'model_10'\n",
        "]"
      ],
      "metadata": {
        "id": "lQhYjrfHJ9qY"
      },
      "execution_count": 13,
      "outputs": []
    },
    {
      "cell_type": "code",
      "source": [
        "df['accuracy'] = [\n",
        "    eval_0[1], eval_1[1], eval_2_1[1], \n",
        "    eval_2_2[1], eval_2_3[1], eval_3[1], \n",
        "    eval_3N[1], eval_4[1], eval_5[1], \n",
        "    eval_6[1], eval_7[1], eval_8[1], \n",
        "    eval_9[1], eval_10[1]\n",
        "]"
      ],
      "metadata": {
        "id": "DdO3iA8OKaun"
      },
      "execution_count": 15,
      "outputs": []
    },
    {
      "cell_type": "code",
      "source": [
        "df['loss'] = [\n",
        "    eval_0[0], eval_1[0], eval_2_1[0], \n",
        "    eval_2_2[0], eval_2_3[0], eval_3[0], \n",
        "    eval_3N[0], eval_4[0], eval_5[0], \n",
        "    eval_6[0], eval_7[0], eval_8[0], \n",
        "    eval_9[0], eval_10[0]\n",
        "]"
      ],
      "metadata": {
        "id": "X1So4q8MLtlx"
      },
      "execution_count": 17,
      "outputs": []
    },
    {
      "cell_type": "markdown",
      "source": [
        "### Comparing all 14 models"
      ],
      "metadata": {
        "id": "TuyK-3lSMp-I"
      }
    },
    {
      "cell_type": "code",
      "source": [
        "df"
      ],
      "metadata": {
        "colab": {
          "base_uri": "https://localhost:8080/",
          "height": 488
        },
        "id": "h4BlW3FDLg01",
        "outputId": "bdf63a76-e59f-4a26-ac66-2650c1a80bd9"
      },
      "execution_count": 19,
      "outputs": [
        {
          "output_type": "execute_result",
          "data": {
            "text/plain": [
              "       models  accuracy      loss\n",
              "0     model_0  0.387931  1.726773\n",
              "1     model_1  0.727874  0.837054\n",
              "2   model_2_1  0.739655  0.819177\n",
              "3   model_2_2  0.470345  1.635180\n",
              "4   model_2_3  0.596954  1.177334\n",
              "5     model_3  0.925345  0.237463\n",
              "6    model_3N  0.955862  0.128170\n",
              "7     model_4  0.967701  0.099630\n",
              "8     model_5  0.999368  0.006205\n",
              "9     model_6  0.995690  0.021492\n",
              "10    model_7  0.995690  0.021492\n",
              "11    model_8  0.992069  0.078080\n",
              "12    model_9  0.988793  0.110237\n",
              "13   model_10  0.962931  0.288791"
            ],
            "text/html": [
              "\n",
              "  <div id=\"df-a435635f-6781-42bb-bcc9-13958b52475c\">\n",
              "    <div class=\"colab-df-container\">\n",
              "      <div>\n",
              "<style scoped>\n",
              "    .dataframe tbody tr th:only-of-type {\n",
              "        vertical-align: middle;\n",
              "    }\n",
              "\n",
              "    .dataframe tbody tr th {\n",
              "        vertical-align: top;\n",
              "    }\n",
              "\n",
              "    .dataframe thead th {\n",
              "        text-align: right;\n",
              "    }\n",
              "</style>\n",
              "<table border=\"1\" class=\"dataframe\">\n",
              "  <thead>\n",
              "    <tr style=\"text-align: right;\">\n",
              "      <th></th>\n",
              "      <th>models</th>\n",
              "      <th>accuracy</th>\n",
              "      <th>loss</th>\n",
              "    </tr>\n",
              "  </thead>\n",
              "  <tbody>\n",
              "    <tr>\n",
              "      <th>0</th>\n",
              "      <td>model_0</td>\n",
              "      <td>0.387931</td>\n",
              "      <td>1.726773</td>\n",
              "    </tr>\n",
              "    <tr>\n",
              "      <th>1</th>\n",
              "      <td>model_1</td>\n",
              "      <td>0.727874</td>\n",
              "      <td>0.837054</td>\n",
              "    </tr>\n",
              "    <tr>\n",
              "      <th>2</th>\n",
              "      <td>model_2_1</td>\n",
              "      <td>0.739655</td>\n",
              "      <td>0.819177</td>\n",
              "    </tr>\n",
              "    <tr>\n",
              "      <th>3</th>\n",
              "      <td>model_2_2</td>\n",
              "      <td>0.470345</td>\n",
              "      <td>1.635180</td>\n",
              "    </tr>\n",
              "    <tr>\n",
              "      <th>4</th>\n",
              "      <td>model_2_3</td>\n",
              "      <td>0.596954</td>\n",
              "      <td>1.177334</td>\n",
              "    </tr>\n",
              "    <tr>\n",
              "      <th>5</th>\n",
              "      <td>model_3</td>\n",
              "      <td>0.925345</td>\n",
              "      <td>0.237463</td>\n",
              "    </tr>\n",
              "    <tr>\n",
              "      <th>6</th>\n",
              "      <td>model_3N</td>\n",
              "      <td>0.955862</td>\n",
              "      <td>0.128170</td>\n",
              "    </tr>\n",
              "    <tr>\n",
              "      <th>7</th>\n",
              "      <td>model_4</td>\n",
              "      <td>0.967701</td>\n",
              "      <td>0.099630</td>\n",
              "    </tr>\n",
              "    <tr>\n",
              "      <th>8</th>\n",
              "      <td>model_5</td>\n",
              "      <td>0.999368</td>\n",
              "      <td>0.006205</td>\n",
              "    </tr>\n",
              "    <tr>\n",
              "      <th>9</th>\n",
              "      <td>model_6</td>\n",
              "      <td>0.995690</td>\n",
              "      <td>0.021492</td>\n",
              "    </tr>\n",
              "    <tr>\n",
              "      <th>10</th>\n",
              "      <td>model_7</td>\n",
              "      <td>0.995690</td>\n",
              "      <td>0.021492</td>\n",
              "    </tr>\n",
              "    <tr>\n",
              "      <th>11</th>\n",
              "      <td>model_8</td>\n",
              "      <td>0.992069</td>\n",
              "      <td>0.078080</td>\n",
              "    </tr>\n",
              "    <tr>\n",
              "      <th>12</th>\n",
              "      <td>model_9</td>\n",
              "      <td>0.988793</td>\n",
              "      <td>0.110237</td>\n",
              "    </tr>\n",
              "    <tr>\n",
              "      <th>13</th>\n",
              "      <td>model_10</td>\n",
              "      <td>0.962931</td>\n",
              "      <td>0.288791</td>\n",
              "    </tr>\n",
              "  </tbody>\n",
              "</table>\n",
              "</div>\n",
              "      <button class=\"colab-df-convert\" onclick=\"convertToInteractive('df-a435635f-6781-42bb-bcc9-13958b52475c')\"\n",
              "              title=\"Convert this dataframe to an interactive table.\"\n",
              "              style=\"display:none;\">\n",
              "        \n",
              "  <svg xmlns=\"http://www.w3.org/2000/svg\" height=\"24px\"viewBox=\"0 0 24 24\"\n",
              "       width=\"24px\">\n",
              "    <path d=\"M0 0h24v24H0V0z\" fill=\"none\"/>\n",
              "    <path d=\"M18.56 5.44l.94 2.06.94-2.06 2.06-.94-2.06-.94-.94-2.06-.94 2.06-2.06.94zm-11 1L8.5 8.5l.94-2.06 2.06-.94-2.06-.94L8.5 2.5l-.94 2.06-2.06.94zm10 10l.94 2.06.94-2.06 2.06-.94-2.06-.94-.94-2.06-.94 2.06-2.06.94z\"/><path d=\"M17.41 7.96l-1.37-1.37c-.4-.4-.92-.59-1.43-.59-.52 0-1.04.2-1.43.59L10.3 9.45l-7.72 7.72c-.78.78-.78 2.05 0 2.83L4 21.41c.39.39.9.59 1.41.59.51 0 1.02-.2 1.41-.59l7.78-7.78 2.81-2.81c.8-.78.8-2.07 0-2.86zM5.41 20L4 18.59l7.72-7.72 1.47 1.35L5.41 20z\"/>\n",
              "  </svg>\n",
              "      </button>\n",
              "      \n",
              "  <style>\n",
              "    .colab-df-container {\n",
              "      display:flex;\n",
              "      flex-wrap:wrap;\n",
              "      gap: 12px;\n",
              "    }\n",
              "\n",
              "    .colab-df-convert {\n",
              "      background-color: #E8F0FE;\n",
              "      border: none;\n",
              "      border-radius: 50%;\n",
              "      cursor: pointer;\n",
              "      display: none;\n",
              "      fill: #1967D2;\n",
              "      height: 32px;\n",
              "      padding: 0 0 0 0;\n",
              "      width: 32px;\n",
              "    }\n",
              "\n",
              "    .colab-df-convert:hover {\n",
              "      background-color: #E2EBFA;\n",
              "      box-shadow: 0px 1px 2px rgba(60, 64, 67, 0.3), 0px 1px 3px 1px rgba(60, 64, 67, 0.15);\n",
              "      fill: #174EA6;\n",
              "    }\n",
              "\n",
              "    [theme=dark] .colab-df-convert {\n",
              "      background-color: #3B4455;\n",
              "      fill: #D2E3FC;\n",
              "    }\n",
              "\n",
              "    [theme=dark] .colab-df-convert:hover {\n",
              "      background-color: #434B5C;\n",
              "      box-shadow: 0px 1px 3px 1px rgba(0, 0, 0, 0.15);\n",
              "      filter: drop-shadow(0px 1px 2px rgba(0, 0, 0, 0.3));\n",
              "      fill: #FFFFFF;\n",
              "    }\n",
              "  </style>\n",
              "\n",
              "      <script>\n",
              "        const buttonEl =\n",
              "          document.querySelector('#df-a435635f-6781-42bb-bcc9-13958b52475c button.colab-df-convert');\n",
              "        buttonEl.style.display =\n",
              "          google.colab.kernel.accessAllowed ? 'block' : 'none';\n",
              "\n",
              "        async function convertToInteractive(key) {\n",
              "          const element = document.querySelector('#df-a435635f-6781-42bb-bcc9-13958b52475c');\n",
              "          const dataTable =\n",
              "            await google.colab.kernel.invokeFunction('convertToInteractive',\n",
              "                                                     [key], {});\n",
              "          if (!dataTable) return;\n",
              "\n",
              "          const docLinkHtml = 'Like what you see? Visit the ' +\n",
              "            '<a target=\"_blank\" href=https://colab.research.google.com/notebooks/data_table.ipynb>data table notebook</a>'\n",
              "            + ' to learn more about interactive tables.';\n",
              "          element.innerHTML = '';\n",
              "          dataTable['output_type'] = 'display_data';\n",
              "          await google.colab.output.renderOutput(dataTable, element);\n",
              "          const docLink = document.createElement('div');\n",
              "          docLink.innerHTML = docLinkHtml;\n",
              "          element.appendChild(docLink);\n",
              "        }\n",
              "      </script>\n",
              "    </div>\n",
              "  </div>\n",
              "  "
            ]
          },
          "metadata": {},
          "execution_count": 19
        }
      ]
    },
    {
      "cell_type": "code",
      "source": [
        "df.to_csv('comparing14models.csv')"
      ],
      "metadata": {
        "id": "2MwtlKZ5PtxC"
      },
      "execution_count": 28,
      "outputs": []
    },
    {
      "cell_type": "markdown",
      "source": [
        "### picking the best 3 models"
      ],
      "metadata": {
        "id": "iXpmyLmGL5Q4"
      }
    },
    {
      "cell_type": "code",
      "source": [
        "df.nlargest(3, ['accuracy'])"
      ],
      "metadata": {
        "colab": {
          "base_uri": "https://localhost:8080/",
          "height": 143
        },
        "id": "_CPHz521MdbO",
        "outputId": "605b8ca1-767c-4823-b5f6-893850165988"
      },
      "execution_count": 21,
      "outputs": [
        {
          "output_type": "execute_result",
          "data": {
            "text/plain": [
              "     models  accuracy      loss\n",
              "8   model_5  0.999368  0.006205\n",
              "9   model_6  0.995690  0.021492\n",
              "10  model_7  0.995690  0.021492"
            ],
            "text/html": [
              "\n",
              "  <div id=\"df-cb3354fc-8dc1-4af2-bafd-4b82e4b4ab99\">\n",
              "    <div class=\"colab-df-container\">\n",
              "      <div>\n",
              "<style scoped>\n",
              "    .dataframe tbody tr th:only-of-type {\n",
              "        vertical-align: middle;\n",
              "    }\n",
              "\n",
              "    .dataframe tbody tr th {\n",
              "        vertical-align: top;\n",
              "    }\n",
              "\n",
              "    .dataframe thead th {\n",
              "        text-align: right;\n",
              "    }\n",
              "</style>\n",
              "<table border=\"1\" class=\"dataframe\">\n",
              "  <thead>\n",
              "    <tr style=\"text-align: right;\">\n",
              "      <th></th>\n",
              "      <th>models</th>\n",
              "      <th>accuracy</th>\n",
              "      <th>loss</th>\n",
              "    </tr>\n",
              "  </thead>\n",
              "  <tbody>\n",
              "    <tr>\n",
              "      <th>8</th>\n",
              "      <td>model_5</td>\n",
              "      <td>0.999368</td>\n",
              "      <td>0.006205</td>\n",
              "    </tr>\n",
              "    <tr>\n",
              "      <th>9</th>\n",
              "      <td>model_6</td>\n",
              "      <td>0.995690</td>\n",
              "      <td>0.021492</td>\n",
              "    </tr>\n",
              "    <tr>\n",
              "      <th>10</th>\n",
              "      <td>model_7</td>\n",
              "      <td>0.995690</td>\n",
              "      <td>0.021492</td>\n",
              "    </tr>\n",
              "  </tbody>\n",
              "</table>\n",
              "</div>\n",
              "      <button class=\"colab-df-convert\" onclick=\"convertToInteractive('df-cb3354fc-8dc1-4af2-bafd-4b82e4b4ab99')\"\n",
              "              title=\"Convert this dataframe to an interactive table.\"\n",
              "              style=\"display:none;\">\n",
              "        \n",
              "  <svg xmlns=\"http://www.w3.org/2000/svg\" height=\"24px\"viewBox=\"0 0 24 24\"\n",
              "       width=\"24px\">\n",
              "    <path d=\"M0 0h24v24H0V0z\" fill=\"none\"/>\n",
              "    <path d=\"M18.56 5.44l.94 2.06.94-2.06 2.06-.94-2.06-.94-.94-2.06-.94 2.06-2.06.94zm-11 1L8.5 8.5l.94-2.06 2.06-.94-2.06-.94L8.5 2.5l-.94 2.06-2.06.94zm10 10l.94 2.06.94-2.06 2.06-.94-2.06-.94-.94-2.06-.94 2.06-2.06.94z\"/><path d=\"M17.41 7.96l-1.37-1.37c-.4-.4-.92-.59-1.43-.59-.52 0-1.04.2-1.43.59L10.3 9.45l-7.72 7.72c-.78.78-.78 2.05 0 2.83L4 21.41c.39.39.9.59 1.41.59.51 0 1.02-.2 1.41-.59l7.78-7.78 2.81-2.81c.8-.78.8-2.07 0-2.86zM5.41 20L4 18.59l7.72-7.72 1.47 1.35L5.41 20z\"/>\n",
              "  </svg>\n",
              "      </button>\n",
              "      \n",
              "  <style>\n",
              "    .colab-df-container {\n",
              "      display:flex;\n",
              "      flex-wrap:wrap;\n",
              "      gap: 12px;\n",
              "    }\n",
              "\n",
              "    .colab-df-convert {\n",
              "      background-color: #E8F0FE;\n",
              "      border: none;\n",
              "      border-radius: 50%;\n",
              "      cursor: pointer;\n",
              "      display: none;\n",
              "      fill: #1967D2;\n",
              "      height: 32px;\n",
              "      padding: 0 0 0 0;\n",
              "      width: 32px;\n",
              "    }\n",
              "\n",
              "    .colab-df-convert:hover {\n",
              "      background-color: #E2EBFA;\n",
              "      box-shadow: 0px 1px 2px rgba(60, 64, 67, 0.3), 0px 1px 3px 1px rgba(60, 64, 67, 0.15);\n",
              "      fill: #174EA6;\n",
              "    }\n",
              "\n",
              "    [theme=dark] .colab-df-convert {\n",
              "      background-color: #3B4455;\n",
              "      fill: #D2E3FC;\n",
              "    }\n",
              "\n",
              "    [theme=dark] .colab-df-convert:hover {\n",
              "      background-color: #434B5C;\n",
              "      box-shadow: 0px 1px 3px 1px rgba(0, 0, 0, 0.15);\n",
              "      filter: drop-shadow(0px 1px 2px rgba(0, 0, 0, 0.3));\n",
              "      fill: #FFFFFF;\n",
              "    }\n",
              "  </style>\n",
              "\n",
              "      <script>\n",
              "        const buttonEl =\n",
              "          document.querySelector('#df-cb3354fc-8dc1-4af2-bafd-4b82e4b4ab99 button.colab-df-convert');\n",
              "        buttonEl.style.display =\n",
              "          google.colab.kernel.accessAllowed ? 'block' : 'none';\n",
              "\n",
              "        async function convertToInteractive(key) {\n",
              "          const element = document.querySelector('#df-cb3354fc-8dc1-4af2-bafd-4b82e4b4ab99');\n",
              "          const dataTable =\n",
              "            await google.colab.kernel.invokeFunction('convertToInteractive',\n",
              "                                                     [key], {});\n",
              "          if (!dataTable) return;\n",
              "\n",
              "          const docLinkHtml = 'Like what you see? Visit the ' +\n",
              "            '<a target=\"_blank\" href=https://colab.research.google.com/notebooks/data_table.ipynb>data table notebook</a>'\n",
              "            + ' to learn more about interactive tables.';\n",
              "          element.innerHTML = '';\n",
              "          dataTable['output_type'] = 'display_data';\n",
              "          await google.colab.output.renderOutput(dataTable, element);\n",
              "          const docLink = document.createElement('div');\n",
              "          docLink.innerHTML = docLinkHtml;\n",
              "          element.appendChild(docLink);\n",
              "        }\n",
              "      </script>\n",
              "    </div>\n",
              "  </div>\n",
              "  "
            ]
          },
          "metadata": {},
          "execution_count": 21
        }
      ]
    },
    {
      "cell_type": "code",
      "source": [
        "df.nsmallest(3, ['loss'])"
      ],
      "metadata": {
        "colab": {
          "base_uri": "https://localhost:8080/",
          "height": 143
        },
        "id": "XsaU0caONIVs",
        "outputId": "d5385aa6-057c-499e-a35b-a33e26ace980"
      },
      "execution_count": 22,
      "outputs": [
        {
          "output_type": "execute_result",
          "data": {
            "text/plain": [
              "     models  accuracy      loss\n",
              "8   model_5  0.999368  0.006205\n",
              "9   model_6  0.995690  0.021492\n",
              "10  model_7  0.995690  0.021492"
            ],
            "text/html": [
              "\n",
              "  <div id=\"df-e9f136f1-11ad-41a4-a858-5011a785f735\">\n",
              "    <div class=\"colab-df-container\">\n",
              "      <div>\n",
              "<style scoped>\n",
              "    .dataframe tbody tr th:only-of-type {\n",
              "        vertical-align: middle;\n",
              "    }\n",
              "\n",
              "    .dataframe tbody tr th {\n",
              "        vertical-align: top;\n",
              "    }\n",
              "\n",
              "    .dataframe thead th {\n",
              "        text-align: right;\n",
              "    }\n",
              "</style>\n",
              "<table border=\"1\" class=\"dataframe\">\n",
              "  <thead>\n",
              "    <tr style=\"text-align: right;\">\n",
              "      <th></th>\n",
              "      <th>models</th>\n",
              "      <th>accuracy</th>\n",
              "      <th>loss</th>\n",
              "    </tr>\n",
              "  </thead>\n",
              "  <tbody>\n",
              "    <tr>\n",
              "      <th>8</th>\n",
              "      <td>model_5</td>\n",
              "      <td>0.999368</td>\n",
              "      <td>0.006205</td>\n",
              "    </tr>\n",
              "    <tr>\n",
              "      <th>9</th>\n",
              "      <td>model_6</td>\n",
              "      <td>0.995690</td>\n",
              "      <td>0.021492</td>\n",
              "    </tr>\n",
              "    <tr>\n",
              "      <th>10</th>\n",
              "      <td>model_7</td>\n",
              "      <td>0.995690</td>\n",
              "      <td>0.021492</td>\n",
              "    </tr>\n",
              "  </tbody>\n",
              "</table>\n",
              "</div>\n",
              "      <button class=\"colab-df-convert\" onclick=\"convertToInteractive('df-e9f136f1-11ad-41a4-a858-5011a785f735')\"\n",
              "              title=\"Convert this dataframe to an interactive table.\"\n",
              "              style=\"display:none;\">\n",
              "        \n",
              "  <svg xmlns=\"http://www.w3.org/2000/svg\" height=\"24px\"viewBox=\"0 0 24 24\"\n",
              "       width=\"24px\">\n",
              "    <path d=\"M0 0h24v24H0V0z\" fill=\"none\"/>\n",
              "    <path d=\"M18.56 5.44l.94 2.06.94-2.06 2.06-.94-2.06-.94-.94-2.06-.94 2.06-2.06.94zm-11 1L8.5 8.5l.94-2.06 2.06-.94-2.06-.94L8.5 2.5l-.94 2.06-2.06.94zm10 10l.94 2.06.94-2.06 2.06-.94-2.06-.94-.94-2.06-.94 2.06-2.06.94z\"/><path d=\"M17.41 7.96l-1.37-1.37c-.4-.4-.92-.59-1.43-.59-.52 0-1.04.2-1.43.59L10.3 9.45l-7.72 7.72c-.78.78-.78 2.05 0 2.83L4 21.41c.39.39.9.59 1.41.59.51 0 1.02-.2 1.41-.59l7.78-7.78 2.81-2.81c.8-.78.8-2.07 0-2.86zM5.41 20L4 18.59l7.72-7.72 1.47 1.35L5.41 20z\"/>\n",
              "  </svg>\n",
              "      </button>\n",
              "      \n",
              "  <style>\n",
              "    .colab-df-container {\n",
              "      display:flex;\n",
              "      flex-wrap:wrap;\n",
              "      gap: 12px;\n",
              "    }\n",
              "\n",
              "    .colab-df-convert {\n",
              "      background-color: #E8F0FE;\n",
              "      border: none;\n",
              "      border-radius: 50%;\n",
              "      cursor: pointer;\n",
              "      display: none;\n",
              "      fill: #1967D2;\n",
              "      height: 32px;\n",
              "      padding: 0 0 0 0;\n",
              "      width: 32px;\n",
              "    }\n",
              "\n",
              "    .colab-df-convert:hover {\n",
              "      background-color: #E2EBFA;\n",
              "      box-shadow: 0px 1px 2px rgba(60, 64, 67, 0.3), 0px 1px 3px 1px rgba(60, 64, 67, 0.15);\n",
              "      fill: #174EA6;\n",
              "    }\n",
              "\n",
              "    [theme=dark] .colab-df-convert {\n",
              "      background-color: #3B4455;\n",
              "      fill: #D2E3FC;\n",
              "    }\n",
              "\n",
              "    [theme=dark] .colab-df-convert:hover {\n",
              "      background-color: #434B5C;\n",
              "      box-shadow: 0px 1px 3px 1px rgba(0, 0, 0, 0.15);\n",
              "      filter: drop-shadow(0px 1px 2px rgba(0, 0, 0, 0.3));\n",
              "      fill: #FFFFFF;\n",
              "    }\n",
              "  </style>\n",
              "\n",
              "      <script>\n",
              "        const buttonEl =\n",
              "          document.querySelector('#df-e9f136f1-11ad-41a4-a858-5011a785f735 button.colab-df-convert');\n",
              "        buttonEl.style.display =\n",
              "          google.colab.kernel.accessAllowed ? 'block' : 'none';\n",
              "\n",
              "        async function convertToInteractive(key) {\n",
              "          const element = document.querySelector('#df-e9f136f1-11ad-41a4-a858-5011a785f735');\n",
              "          const dataTable =\n",
              "            await google.colab.kernel.invokeFunction('convertToInteractive',\n",
              "                                                     [key], {});\n",
              "          if (!dataTable) return;\n",
              "\n",
              "          const docLinkHtml = 'Like what you see? Visit the ' +\n",
              "            '<a target=\"_blank\" href=https://colab.research.google.com/notebooks/data_table.ipynb>data table notebook</a>'\n",
              "            + ' to learn more about interactive tables.';\n",
              "          element.innerHTML = '';\n",
              "          dataTable['output_type'] = 'display_data';\n",
              "          await google.colab.output.renderOutput(dataTable, element);\n",
              "          const docLink = document.createElement('div');\n",
              "          docLink.innerHTML = docLinkHtml;\n",
              "          element.appendChild(docLink);\n",
              "        }\n",
              "      </script>\n",
              "    </div>\n",
              "  </div>\n",
              "  "
            ]
          },
          "metadata": {},
          "execution_count": 22
        }
      ]
    },
    {
      "cell_type": "markdown",
      "source": [
        "### Evaluating the model_5 (best model so far....)"
      ],
      "metadata": {
        "id": "Dn5Nipd0RHWw"
      }
    },
    {
      "cell_type": "code",
      "source": [
        "data = tf.keras.preprocessing.image_dataset_from_directory(\n",
        "    \"/content/asl_alphabet_train/asl_alphabet_train\", \n",
        "    label_mode='categorical', \n",
        "    image_size=(200, 200), \n",
        "    shuffle=False \n",
        ")"
      ],
      "metadata": {
        "colab": {
          "base_uri": "https://localhost:8080/"
        },
        "id": "ALyDgtE_NkB6",
        "outputId": "7af43114-6fd0-460f-8290-3ca9e7d77c69"
      },
      "execution_count": 27,
      "outputs": [
        {
          "output_type": "stream",
          "name": "stdout",
          "text": [
            "Found 87000 files belonging to 29 classes.\n"
          ]
        }
      ]
    },
    {
      "cell_type": "code",
      "source": [
        "y_labels = []\n",
        "for images, labels in data.unbatch():\n",
        "  y_labels.append(labels.numpy().argmax())\n",
        "y_labels[:10]"
      ],
      "metadata": {
        "colab": {
          "base_uri": "https://localhost:8080/"
        },
        "id": "1YXHUroHPpwr",
        "outputId": "1d0ebc3b-4dfb-4122-84b9-b5bfca41ace8"
      },
      "execution_count": 29,
      "outputs": [
        {
          "output_type": "execute_result",
          "data": {
            "text/plain": [
              "[0, 0, 0, 0, 0, 0, 0, 0, 0, 0]"
            ]
          },
          "metadata": {},
          "execution_count": 29
        }
      ]
    },
    {
      "cell_type": "code",
      "source": [
        "pred_probs = model_5.predict(data, verbose=1)"
      ],
      "metadata": {
        "colab": {
          "base_uri": "https://localhost:8080/"
        },
        "id": "g-iE4mfIP_cG",
        "outputId": "e59bbc6d-d7fc-4bf2-ef73-6de57d6d2d3c"
      },
      "execution_count": 30,
      "outputs": [
        {
          "output_type": "stream",
          "name": "stdout",
          "text": [
            "2719/2719 [==============================] - 139s 51ms/step\n"
          ]
        }
      ]
    },
    {
      "cell_type": "code",
      "source": [
        "pred_probs[:3]"
      ],
      "metadata": {
        "colab": {
          "base_uri": "https://localhost:8080/"
        },
        "id": "kBaFBu_wQbvj",
        "outputId": "f86f696d-15b5-4218-81de-1e4db6da5c2c"
      },
      "execution_count": 33,
      "outputs": [
        {
          "output_type": "execute_result",
          "data": {
            "text/plain": [
              "array([[9.99891520e-01, 6.25057228e-10, 1.20192589e-09, 2.68104332e-12,\n",
              "        1.19149536e-06, 1.46562547e-12, 8.73722428e-09, 1.18602621e-12,\n",
              "        1.06269408e-06, 2.29105901e-11, 2.91559249e-10, 5.55209958e-08,\n",
              "        1.02055805e-04, 8.93700225e-09, 6.59075425e-08, 5.41743096e-14,\n",
              "        1.05057564e-14, 4.34459101e-11, 1.00544605e-06, 2.36138908e-06,\n",
              "        4.38292125e-10, 4.93494460e-13, 1.66556595e-14, 6.86375586e-07,\n",
              "        1.30443178e-09, 1.98741770e-08, 2.56052335e-09, 2.61730623e-14,\n",
              "        9.96665195e-10],\n",
              "       [9.99986768e-01, 1.03787465e-10, 1.86452476e-09, 1.27598301e-12,\n",
              "        4.13986896e-07, 2.78391633e-12, 5.36890177e-09, 3.56077662e-13,\n",
              "        2.98770395e-08, 1.51263388e-12, 1.66752324e-11, 4.97201835e-09,\n",
              "        1.19295673e-05, 4.12487156e-10, 1.82122264e-08, 2.99660224e-15,\n",
              "        3.19746827e-15, 2.62826414e-12, 5.66746010e-08, 1.18597818e-07,\n",
              "        2.69312940e-11, 8.74327357e-13, 2.38271914e-15, 4.94660696e-07,\n",
              "        1.11939313e-09, 1.82410123e-08, 1.99648839e-10, 2.01781171e-14,\n",
              "        3.60406993e-09],\n",
              "       [1.00000000e+00, 1.07920061e-13, 3.76124303e-14, 4.58978286e-18,\n",
              "        2.00529851e-08, 2.51465580e-12, 2.82654867e-12, 8.80930020e-15,\n",
              "        1.37960740e-10, 5.30631040e-13, 1.76163467e-15, 1.25788350e-16,\n",
              "        1.28102116e-08, 3.67851962e-13, 1.43346715e-11, 7.88424823e-19,\n",
              "        1.66713548e-18, 5.92179593e-17, 1.01676216e-10, 1.41307755e-11,\n",
              "        3.81196855e-16, 1.35019183e-16, 1.96130627e-15, 1.04560374e-10,\n",
              "        1.34197176e-11, 2.50547196e-13, 3.11562367e-14, 2.00056834e-16,\n",
              "        1.52236533e-15]], dtype=float32)"
            ]
          },
          "metadata": {},
          "execution_count": 33
        }
      ]
    },
    {
      "cell_type": "code",
      "source": [
        "pred_classes = pred_probs.argmax(axis=1)\n",
        "pred_classes[:10]"
      ],
      "metadata": {
        "colab": {
          "base_uri": "https://localhost:8080/"
        },
        "id": "rJyL-1P5Qu1z",
        "outputId": "e9d8b368-6995-453e-cdac-c8632043665a"
      },
      "execution_count": 32,
      "outputs": [
        {
          "output_type": "execute_result",
          "data": {
            "text/plain": [
              "array([0, 0, 0, 0, 0, 0, 0, 0, 0, 0])"
            ]
          },
          "metadata": {},
          "execution_count": 32
        }
      ]
    },
    {
      "cell_type": "code",
      "source": [
        "from sklearn.metrics import classification_report\n",
        "print(classification_report(y_labels, pred_classes))"
      ],
      "metadata": {
        "colab": {
          "base_uri": "https://localhost:8080/"
        },
        "id": "3dmWa4enRngw",
        "outputId": "68712dc3-250f-4cfc-a656-87fca525f619"
      },
      "execution_count": 35,
      "outputs": [
        {
          "output_type": "stream",
          "name": "stdout",
          "text": [
            "              precision    recall  f1-score   support\n",
            "\n",
            "           0       1.00      1.00      1.00      3000\n",
            "           1       1.00      1.00      1.00      3000\n",
            "           2       1.00      1.00      1.00      3000\n",
            "           3       1.00      1.00      1.00      3000\n",
            "           4       1.00      1.00      1.00      3000\n",
            "           5       1.00      1.00      1.00      3000\n",
            "           6       1.00      1.00      1.00      3000\n",
            "           7       1.00      1.00      1.00      3000\n",
            "           8       1.00      1.00      1.00      3000\n",
            "           9       1.00      1.00      1.00      3000\n",
            "          10       1.00      1.00      1.00      3000\n",
            "          11       1.00      1.00      1.00      3000\n",
            "          12       1.00      1.00      1.00      3000\n",
            "          13       1.00      1.00      1.00      3000\n",
            "          14       1.00      1.00      1.00      3000\n",
            "          15       1.00      1.00      1.00      3000\n",
            "          16       1.00      1.00      1.00      3000\n",
            "          17       1.00      1.00      1.00      3000\n",
            "          18       1.00      1.00      1.00      3000\n",
            "          19       1.00      1.00      1.00      3000\n",
            "          20       1.00      1.00      1.00      3000\n",
            "          21       1.00      1.00      1.00      3000\n",
            "          22       1.00      1.00      1.00      3000\n",
            "          23       1.00      1.00      1.00      3000\n",
            "          24       1.00      1.00      1.00      3000\n",
            "          25       1.00      1.00      1.00      3000\n",
            "          26       1.00      1.00      1.00      3000\n",
            "          27       1.00      1.00      1.00      3000\n",
            "          28       1.00      1.00      1.00      3000\n",
            "\n",
            "    accuracy                           1.00     87000\n",
            "   macro avg       1.00      1.00      1.00     87000\n",
            "weighted avg       1.00      1.00      1.00     87000\n",
            "\n"
          ]
        }
      ]
    },
    {
      "cell_type": "code",
      "source": [
        "from sklearn.metrics import confusion_matrix"
      ],
      "metadata": {
        "id": "qU5nZd8TRoiq"
      },
      "execution_count": 36,
      "outputs": []
    },
    {
      "cell_type": "code",
      "source": [
        "confusion_mat = confusion_matrix(y_labels, pred_classes)"
      ],
      "metadata": {
        "id": "g0nFIA-fSRi-"
      },
      "execution_count": 38,
      "outputs": []
    },
    {
      "cell_type": "code",
      "source": [
        "from seaborn import heatmap"
      ],
      "metadata": {
        "id": "yQ1PJh0HSWL9"
      },
      "execution_count": 39,
      "outputs": []
    },
    {
      "cell_type": "code",
      "source": [
        "import matplotlib.pyplot as plt\n",
        "fig, ax = plt.subplots(figsize=(15,15))\n",
        "heatmap(confusion_mat, ax=ax)"
      ],
      "metadata": {
        "colab": {
          "base_uri": "https://localhost:8080/",
          "height": 884
        },
        "id": "jVFNf2plSjB6",
        "outputId": "4364e63f-d850-46ac-fc96-299c101cbcea"
      },
      "execution_count": 48,
      "outputs": [
        {
          "output_type": "execute_result",
          "data": {
            "text/plain": [
              "<matplotlib.axes._subplots.AxesSubplot at 0x7ff825e1d7f0>"
            ]
          },
          "metadata": {},
          "execution_count": 48
        },
        {
          "output_type": "display_data",
          "data": {
            "text/plain": [
              "<Figure size 1080x1080 with 2 Axes>"
            ],
            "image/png": "[encoded data removed]"
          },
          "metadata": {
            "needs_background": "light"
          }
        }
      ]
    },
    {
      "cell_type": "code",
      "source": [
        "!pip install wandb"
      ],
      "metadata": {
        "id": "VDluXFzjWFPd"
      },
      "execution_count": null,
      "outputs": []
    },
    {
      "cell_type": "code",
      "source": [
        "!wandb login\n",
        "from wandb.keras import WandbCallback\n",
        "import wandb\n",
        "wandb.init(project=\"project_efficientnetb0\")"
      ],
      "metadata": {
        "colab": {
          "base_uri": "https://localhost:8080/",
          "height": 229
        },
        "id": "ydMBI_CzWZlP",
        "outputId": "8bcdb8fd-0e09-4ddf-dad6-8b83d5660856"
      },
      "execution_count": 51,
      "outputs": [
        {
          "output_type": "stream",
          "name": "stdout",
          "text": [
            "\u001b[34m\u001b[1mwandb\u001b[0m: Logging into wandb.ai. (Learn how to deploy a W&B server locally: https://wandb.me/wandb-server)\n",
            "\u001b[34m\u001b[1mwandb\u001b[0m: You can find your API key in your browser here: https://wandb.ai/authorize\n",
            "\u001b[34m\u001b[1mwandb\u001b[0m: Paste an API key from your profile and hit enter, or press ctrl+c to quit: \n",
            "\u001b[34m\u001b[1mwandb\u001b[0m: Appending key for api.wandb.ai to your netrc file: /root/.netrc\n"
          ]
        },
        {
          "output_type": "stream",
          "name": "stderr",
          "text": [
            "ERROR:wandb.jupyter:Failed to detect the name of this notebook, you can set it manually with the WANDB_NOTEBOOK_NAME environment variable to enable code saving.\n",
            "\u001b[34m\u001b[1mwandb\u001b[0m: Currently logged in as: \u001b[33mchandu_\u001b[0m (\u001b[33mc01\u001b[0m). Use \u001b[1m`wandb login --relogin`\u001b[0m to force relogin\n"
          ]
        },
        {
          "output_type": "display_data",
          "data": {
            "text/plain": [
              "<IPython.core.display.HTML object>"
            ],
            "text/html": [
              "Tracking run with wandb version 0.13.9"
            ]
          },
          "metadata": {}
        },
        {
          "output_type": "display_data",
          "data": {
            "text/plain": [
              "<IPython.core.display.HTML object>"
            ],
            "text/html": [
              "Run data is saved locally in <code>/content/wandb/run-20230123_020017-c8l0ruxv</code>"
            ]
          },
          "metadata": {}
        },
        {
          "output_type": "display_data",
          "data": {
            "text/plain": [
              "<IPython.core.display.HTML object>"
            ],
            "text/html": [
              "Syncing run <strong><a href=\"https://wandb.ai/c01/project_efficientnetb0/runs/c8l0ruxv\" target=\"_blank\">lemon-night-1</a></strong> to <a href=\"https://wandb.ai/c01/project_efficientnetb0\" target=\"_blank\">Weights & Biases</a> (<a href=\"https://wandb.me/run\" target=\"_blank\">docs</a>)<br/>"
            ]
          },
          "metadata": {}
        },
        {
          "output_type": "display_data",
          "data": {
            "text/plain": [
              "<IPython.core.display.HTML object>"
            ],
            "text/html": [
              " View project at <a href=\"https://wandb.ai/c01/project_efficientnetb0\" target=\"_blank\">https://wandb.ai/c01/project_efficientnetb0</a>"
            ]
          },
          "metadata": {}
        },
        {
          "output_type": "display_data",
          "data": {
            "text/plain": [
              "<IPython.core.display.HTML object>"
            ],
            "text/html": [
              " View run at <a href=\"https://wandb.ai/c01/project_efficientnetb0/runs/c8l0ruxv\" target=\"_blank\">https://wandb.ai/c01/project_efficientnetb0/runs/c8l0ruxv</a>"
            ]
          },
          "metadata": {}
        },
        {
          "output_type": "execute_result",
          "data": {
            "text/html": [
              "<button onClick=\"this.nextSibling.style.display='block';this.style.display='none';\">Display W&B run</button><iframe src=\"https://wandb.ai/c01/project_efficientnetb0/runs/c8l0ruxv?jupyter=true\" style=\"border:none;width:100%;height:420px;display:none;\"></iframe>"
            ],
            "text/plain": [
              "<wandb.sdk.wandb_run.Run at 0x7ff82106aa60>"
            ]
          },
          "metadata": {},
          "execution_count": 51
        }
      ]
    },
    {
      "cell_type": "code",
      "source": [
        "import tensorflow as tf\n",
        "\n",
        "train_data = tf.keras.preprocessing.image_dataset_from_directory(\n",
        "    \"/content/asl_alphabet_train/asl_alphabet_train\", \n",
        "    label_mode='categorical', \n",
        "    image_size=(200, 200), \n",
        "    seed=42, \n",
        "    validation_split=0.2,\n",
        "    subset=\"training\", \n",
        ")\n",
        "test_data = tf.keras.preprocessing.image_dataset_from_directory(\n",
        "    \"/content/asl_alphabet_train/asl_alphabet_train\", \n",
        "    label_mode='categorical', \n",
        "    image_size=(200, 200), \n",
        "    seed=42, \n",
        "    validation_split=0.2,\n",
        "    subset=\"validation\", \n",
        ")\n",
        "\n",
        "\n",
        "base_model = tf.keras.applications.EfficientNetB0(False)\n",
        "base_model.trainable=False\n",
        "\n",
        "inputs = tf.keras.layers.Input(shape=(200, 200, 3))\n",
        "x = base_model(inputs)\n",
        "x = tf.keras.layers.GlobalAveragePooling2D()(x)\n",
        "x = tf.keras.layers.Dense(29)(x)\n",
        "outputs = tf.keras.layers.Activation(tf.keras.activations.softmax)(x)\n",
        "model_5 = tf.keras.Model(inputs, outputs)\n",
        "\n",
        "model_5.compile(\n",
        "    loss=\"categorical_crossentropy\", \n",
        "    metrics=[\"accuracy\"], \n",
        "    optimizer=tf.keras.optimizers.Adam()\n",
        ")\n",
        "history_5 = model_5.fit(\n",
        "    train_data, \n",
        "    epochs=3, \n",
        "    steps_per_epoch=len(train_data), \n",
        "    validation_data=test_data, \n",
        "    validation_steps=int(0.25 * len(test_data)), \n",
        "    callbacks=[WandbCallback()]\n",
        ")"
      ],
      "metadata": {
        "colab": {
          "base_uri": "https://localhost:8080/"
        },
        "id": "14yj5d2LU58C",
        "outputId": "2363cb4b-c61c-41dd-ae1e-5bc6b8d60014"
      },
      "execution_count": 52,
      "outputs": [
        {
          "output_type": "stream",
          "name": "stdout",
          "text": [
            "Found 87000 files belonging to 29 classes.\n",
            "Using 69600 files for training.\n",
            "Found 87000 files belonging to 29 classes.\n",
            "Using 17400 files for validation.\n"
          ]
        },
        {
          "output_type": "stream",
          "name": "stderr",
          "text": [
            "\u001b[34m\u001b[1mwandb\u001b[0m: \u001b[33mWARNING\u001b[0m The save_model argument by default saves the model in the HDF5 format that cannot save custom objects like subclassed models and custom layers. This behavior will be deprecated in a future release in favor of the SavedModel format. Meanwhile, the HDF5 model is saved as W&B files and the SavedModel as W&B Artifacts.\n"
          ]
        },
        {
          "output_type": "stream",
          "name": "stdout",
          "text": [
            "Epoch 1/3\n",
            "2175/2175 [==============================] - ETA: 0s - loss: 0.3870 - accuracy: 0.9352"
          ]
        },
        {
          "output_type": "stream",
          "name": "stderr",
          "text": [
            "WARNING:absl:Found untraced functions such as _jit_compiled_convolution_op, _jit_compiled_convolution_op, _jit_compiled_convolution_op, _jit_compiled_convolution_op, _jit_compiled_convolution_op while saving (showing 5 of 81). These functions will not be directly callable after loading.\n",
            "\u001b[34m\u001b[1mwandb\u001b[0m: Adding directory to artifact (/content/wandb/run-20230123_020017-c8l0ruxv/files/model-best)... Done. 0.1s\n"
          ]
        },
        {
          "output_type": "stream",
          "name": "stdout",
          "text": [
            "\b\b\b\b\b\b\b\b\b\b\b\b\b\b\b\b\b\b\b\b\b\b\b\b\b\b\b\b\b\b\b\b\b\b\b\b\b\b\b\b\b\b\b\b\b\b\b\b\b\b\b\b\b\b\b\b\b\b\b\b\b\b\b\b\b\b\b\b\b\b\b\b\b\b\b\b\b\b\b\b\b\b\b\b\b\b\r2175/2175 [==============================] - 186s 81ms/step - loss: 0.3870 - accuracy: 0.9352 - val_loss: 0.0837 - val_accuracy: 0.9897\n",
            "Epoch 2/3\n",
            "2175/2175 [==============================] - ETA: 0s - loss: 0.0722 - accuracy: 0.9900"
          ]
        },
        {
          "output_type": "stream",
          "name": "stderr",
          "text": [
            "WARNING:absl:Found untraced functions such as _jit_compiled_convolution_op, _jit_compiled_convolution_op, _jit_compiled_convolution_op, _jit_compiled_convolution_op, _jit_compiled_convolution_op while saving (showing 5 of 81). These functions will not be directly callable after loading.\n",
            "\u001b[34m\u001b[1mwandb\u001b[0m: Adding directory to artifact (/content/wandb/run-20230123_020017-c8l0ruxv/files/model-best)... Done. 0.1s\n"
          ]
        },
        {
          "output_type": "stream",
          "name": "stdout",
          "text": [
            "\b\b\b\b\b\b\b\b\b\b\b\b\b\b\b\b\b\b\b\b\b\b\b\b\b\b\b\b\b\b\b\b\b\b\b\b\b\b\b\b\b\b\b\b\b\b\b\b\b\b\b\b\b\b\b\b\b\b\b\b\b\b\b\b\b\b\b\b\b\b\b\b\b\b\b\b\b\b\b\b\b\b\b\b\b\b\r2175/2175 [==============================] - 166s 76ms/step - loss: 0.0722 - accuracy: 0.9900 - val_loss: 0.0367 - val_accuracy: 0.9956\n",
            "Epoch 3/3\n",
            "2175/2175 [==============================] - ETA: 0s - loss: 0.0388 - accuracy: 0.9946"
          ]
        },
        {
          "output_type": "stream",
          "name": "stderr",
          "text": [
            "WARNING:absl:Found untraced functions such as _jit_compiled_convolution_op, _jit_compiled_convolution_op, _jit_compiled_convolution_op, _jit_compiled_convolution_op, _jit_compiled_convolution_op while saving (showing 5 of 81). These functions will not be directly callable after loading.\n",
            "\u001b[34m\u001b[1mwandb\u001b[0m: Adding directory to artifact (/content/wandb/run-20230123_020017-c8l0ruxv/files/model-best)... Done. 0.2s\n"
          ]
        },
        {
          "output_type": "stream",
          "name": "stdout",
          "text": [
            "\b\b\b\b\b\b\b\b\b\b\b\b\b\b\b\b\b\b\b\b\b\b\b\b\b\b\b\b\b\b\b\b\b\b\b\b\b\b\b\b\b\b\b\b\b\b\b\b\b\b\b\b\b\b\b\b\b\b\b\b\b\b\b\b\b\b\b\b\b\b\b\b\b\b\b\b\b\b\b\b\b\b\b\b\b\b\r2175/2175 [==============================] - 173s 80ms/step - loss: 0.0388 - accuracy: 0.9946 - val_loss: 0.0197 - val_accuracy: 0.9975\n"
          ]
        }
      ]
    },
    {
      "cell_type": "code",
      "source": [
        "import pandas as pd\n",
        "pd.DataFrame(history_5.history)[['loss', 'val_loss']].plot()"
      ],
      "metadata": {
        "colab": {
          "base_uri": "https://localhost:8080/",
          "height": 283
        },
        "id": "2nQz54EfWyOY",
        "outputId": "7635bef9-fbc0-4af3-e028-a3d172ce45f3"
      },
      "execution_count": 58,
      "outputs": [
        {
          "output_type": "execute_result",
          "data": {
            "text/plain": [
              "<matplotlib.axes._subplots.AxesSubplot at 0x7ff81adc0550>"
            ]
          },
          "metadata": {},
          "execution_count": 58
        },
        {
          "output_type": "display_data",
          "data": {
            "text/plain": [
              "<Figure size 432x288 with 1 Axes>"
            ],
            "image/png": "[encoded data removed]"
          },
          "metadata": {
            "needs_background": "light"
          }
        }
      ]
    },
    {
      "cell_type": "code",
      "source": [
        "pd.DataFrame(history_5.history)[['accuracy', 'val_accuracy']].plot()"
      ],
      "metadata": {
        "colab": {
          "base_uri": "https://localhost:8080/",
          "height": 284
        },
        "id": "Obx2HycHXUtt",
        "outputId": "5bdfb497-13d6-47dc-fb59-bbd47b23eb41"
      },
      "execution_count": 59,
      "outputs": [
        {
          "output_type": "execute_result",
          "data": {
            "text/plain": [
              "<matplotlib.axes._subplots.AxesSubplot at 0x7ff816fc7610>"
            ]
          },
          "metadata": {},
          "execution_count": 59
        },
        {
          "output_type": "display_data",
          "data": {
            "text/plain": [
              "<Figure size 432x288 with 1 Axes>"
            ],
            "image/png": "[encoded data removed]"
          },
          "metadata": {
            "needs_background": "light"
          }
        }
      ]
    },
    {
      "cell_type": "code",
      "source": [],
      "metadata": {
        "id": "4E8l904sYdJJ"
      },
      "execution_count": null,
      "outputs": []
    },
    {
      "cell_type": "code",
      "source": [
        "wandb.init(project=\"project_test_model_4\")\n",
        "model_4 = tf.keras.Sequential([\n",
        "    tf.keras.layers.Rescaling(1./255),\n",
        "    tf.keras.layers.Conv2D(10, 3, 1,\n",
        "                           activation=tf.keras.activations.relu, \n",
        "                           input_shape=(200, 200, 3)), \n",
        "    tf.keras.layers.MaxPool2D(),\n",
        "    tf.keras.layers.Conv2D(10, 3, 1, \n",
        "                           activation=tf.keras.activations.relu),\n",
        "    tf.keras.layers.MaxPool2D(),\n",
        "    tf.keras.layers.Flatten(),\n",
        "    tf.keras.layers.Dense(1000, activation=tf.keras.activations.relu), \n",
        "    tf.keras.layers.Dense(29), \n",
        "    tf.keras.layers.Activation(tf.keras.activations.softmax, dtype=tf.float32)\n",
        "])\n",
        "model_4.compile(\n",
        "    loss=\"categorical_crossentropy\", \n",
        "    metrics=[\"accuracy\"], \n",
        "    optimizer=tf.keras.optimizers.Adam()\n",
        ")\n",
        "history_4 = model_4.fit(\n",
        "    train_data, \n",
        "    epochs=3, \n",
        "    steps_per_epoch=len(train_data), \n",
        "    validation_data=test_data, \n",
        "    validation_steps=int(0.25 * len(test_data)), \n",
        "    callbacks=[WandbCallback()]\n",
        ")"
      ],
      "metadata": {
        "colab": {
          "base_uri": "https://localhost:8080/",
          "height": 679
        },
        "id": "RaCaZOd1XYfa",
        "outputId": "b1272c00-44e8-4001-db30-c850341cc73a"
      },
      "execution_count": 54,
      "outputs": [
        {
          "output_type": "display_data",
          "data": {
            "text/plain": [
              "<IPython.core.display.HTML object>"
            ],
            "text/html": [
              "Finishing last run (ID:c8l0ruxv) before initializing another..."
            ]
          },
          "metadata": {}
        },
        {
          "output_type": "display_data",
          "data": {
            "text/plain": [
              "<IPython.core.display.HTML object>"
            ],
            "text/html": [
              "Waiting for W&B process to finish... <strong style=\"color:green\">(success).</strong>"
            ]
          },
          "metadata": {}
        },
        {
          "output_type": "display_data",
          "data": {
            "text/plain": [
              "<IPython.core.display.HTML object>"
            ],
            "text/html": [
              "<style>\n",
              "    table.wandb td:nth-child(1) { padding: 0 10px; text-align: left ; width: auto;} td:nth-child(2) {text-align: left ; width: 100%}\n",
              "    .wandb-row { display: flex; flex-direction: row; flex-wrap: wrap; justify-content: flex-start; width: 100% }\n",
              "    .wandb-col { display: flex; flex-direction: column; flex-basis: 100%; flex: 1; padding: 10px; }\n",
              "    </style>\n",
              "<div class=\"wandb-row\"><div class=\"wandb-col\"><h3>Run history:</h3><br/><table class=\"wandb\"><tr><td>accuracy</td><td>▁▇█</td></tr><tr><td>epoch</td><td>▁▅█</td></tr><tr><td>loss</td><td>█▂▁</td></tr><tr><td>val_accuracy</td><td>▁▆█</td></tr><tr><td>val_loss</td><td>█▃▁</td></tr></table><br/></div><div class=\"wandb-col\"><h3>Run summary:</h3><br/><table class=\"wandb\"><tr><td>accuracy</td><td>0.99457</td></tr><tr><td>best_epoch</td><td>2</td></tr><tr><td>best_val_loss</td><td>0.01972</td></tr><tr><td>epoch</td><td>2</td></tr><tr><td>loss</td><td>0.03877</td></tr><tr><td>val_accuracy</td><td>0.99747</td></tr><tr><td>val_loss</td><td>0.01972</td></tr></table><br/></div></div>"
            ]
          },
          "metadata": {}
        },
        {
          "output_type": "display_data",
          "data": {
            "text/plain": [
              "<IPython.core.display.HTML object>"
            ],
            "text/html": [
              " View run <strong style=\"color:#cdcd00\">lemon-night-1</strong> at: <a href=\"https://wandb.ai/c01/project_efficientnetb0/runs/c8l0ruxv\" target=\"_blank\">https://wandb.ai/c01/project_efficientnetb0/runs/c8l0ruxv</a><br/>Synced 5 W&B file(s), 1 media file(s), 12 artifact file(s) and 1 other file(s)"
            ]
          },
          "metadata": {}
        },
        {
          "output_type": "display_data",
          "data": {
            "text/plain": [
              "<IPython.core.display.HTML object>"
            ],
            "text/html": [
              "Find logs at: <code>./wandb/run-20230123_020017-c8l0ruxv/logs</code>"
            ]
          },
          "metadata": {}
        },
        {
          "output_type": "display_data",
          "data": {
            "text/plain": [
              "<IPython.core.display.HTML object>"
            ],
            "text/html": [
              "Successfully finished last run (ID:c8l0ruxv). Initializing new run:<br/>"
            ]
          },
          "metadata": {}
        },
        {
          "output_type": "display_data",
          "data": {
            "text/plain": [
              "<IPython.core.display.HTML object>"
            ],
            "text/html": [
              "Tracking run with wandb version 0.13.9"
            ]
          },
          "metadata": {}
        },
        {
          "output_type": "display_data",
          "data": {
            "text/plain": [
              "<IPython.core.display.HTML object>"
            ],
            "text/html": [
              "Run data is saved locally in <code>/content/wandb/run-20230123_021006-nwy8kt67</code>"
            ]
          },
          "metadata": {}
        },
        {
          "output_type": "display_data",
          "data": {
            "text/plain": [
              "<IPython.core.display.HTML object>"
            ],
            "text/html": [
              "Syncing run <strong><a href=\"https://wandb.ai/c01/project_test_model_4/runs/nwy8kt67\" target=\"_blank\">laced-plasma-1</a></strong> to <a href=\"https://wandb.ai/c01/project_test_model_4\" target=\"_blank\">Weights & Biases</a> (<a href=\"https://wandb.me/run\" target=\"_blank\">docs</a>)<br/>"
            ]
          },
          "metadata": {}
        },
        {
          "output_type": "display_data",
          "data": {
            "text/plain": [
              "<IPython.core.display.HTML object>"
            ],
            "text/html": [
              " View project at <a href=\"https://wandb.ai/c01/project_test_model_4\" target=\"_blank\">https://wandb.ai/c01/project_test_model_4</a>"
            ]
          },
          "metadata": {}
        },
        {
          "output_type": "display_data",
          "data": {
            "text/plain": [
              "<IPython.core.display.HTML object>"
            ],
            "text/html": [
              " View run at <a href=\"https://wandb.ai/c01/project_test_model_4/runs/nwy8kt67\" target=\"_blank\">https://wandb.ai/c01/project_test_model_4/runs/nwy8kt67</a>"
            ]
          },
          "metadata": {}
        },
        {
          "output_type": "stream",
          "name": "stdout",
          "text": [
            "Epoch 1/3\n",
            "2174/2175 [============================>.] - ETA: 0s - loss: 0.6598 - accuracy: 0.7946"
          ]
        },
        {
          "output_type": "stream",
          "name": "stderr",
          "text": [
            "WARNING:absl:Found untraced functions such as _jit_compiled_convolution_op, _jit_compiled_convolution_op while saving (showing 2 of 2). These functions will not be directly callable after loading.\n",
            "\u001b[34m\u001b[1mwandb\u001b[0m: Adding directory to artifact (/content/wandb/run-20230123_021006-nwy8kt67/files/model-best)... Done. 1.4s\n"
          ]
        },
        {
          "output_type": "stream",
          "name": "stdout",
          "text": [
            "\b\b\b\b\b\b\b\b\b\b\b\b\b\b\b\b\b\b\b\b\b\b\b\b\b\b\b\b\b\b\b\b\b\b\b\b\b\b\b\b\b\b\b\b\b\b\b\b\b\b\b\b\b\b\b\b\b\b\b\b\b\b\b\b\b\b\b\b\b\b\b\b\b\b\b\b\b\b\b\b\b\b\b\b\b\b\r2175/2175 [==============================] - 82s 37ms/step - loss: 0.6596 - accuracy: 0.7947 - val_loss: 0.1713 - val_accuracy: 0.9453\n",
            "Epoch 2/3\n",
            "2174/2175 [============================>.] - ETA: 0s - loss: 0.0954 - accuracy: 0.9683"
          ]
        },
        {
          "output_type": "stream",
          "name": "stderr",
          "text": [
            "WARNING:absl:Found untraced functions such as _jit_compiled_convolution_op, _jit_compiled_convolution_op while saving (showing 2 of 2). These functions will not be directly callable after loading.\n",
            "\u001b[34m\u001b[1mwandb\u001b[0m: Adding directory to artifact (/content/wandb/run-20230123_021006-nwy8kt67/files/model-best)... Done. 1.4s\n"
          ]
        },
        {
          "output_type": "stream",
          "name": "stdout",
          "text": [
            "\b\b\b\b\b\b\b\b\b\b\b\b\b\b\b\b\b\b\b\b\b\b\b\b\b\b\b\b\b\b\b\b\b\b\b\b\b\b\b\b\b\b\b\b\b\b\b\b\b\b\b\b\b\b\b\b\b\b\b\b\b\b\b\b\b\b\b\b\b\b\b\b\b\b\b\b\b\b\b\b\b\b\b\b\b\b\r2175/2175 [==============================] - 89s 41ms/step - loss: 0.0954 - accuracy: 0.9683 - val_loss: 0.1085 - val_accuracy: 0.9651\n",
            "Epoch 3/3\n",
            "2175/2175 [==============================] - ETA: 0s - loss: 0.0587 - accuracy: 0.9817"
          ]
        },
        {
          "output_type": "stream",
          "name": "stderr",
          "text": [
            "WARNING:absl:Found untraced functions such as _jit_compiled_convolution_op, _jit_compiled_convolution_op while saving (showing 2 of 2). These functions will not be directly callable after loading.\n",
            "\u001b[34m\u001b[1mwandb\u001b[0m: Adding directory to artifact (/content/wandb/run-20230123_021006-nwy8kt67/files/model-best)... Done. 1.4s\n"
          ]
        },
        {
          "output_type": "stream",
          "name": "stdout",
          "text": [
            "\b\b\b\b\b\b\b\b\b\b\b\b\b\b\b\b\b\b\b\b\b\b\b\b\b\b\b\b\b\b\b\b\b\b\b\b\b\b\b\b\b\b\b\b\b\b\b\b\b\b\b\b\b\b\b\b\b\b\b\b\b\b\b\b\b\b\b\b\b\b\b\b\b\b\b\b\b\b\b\b\b\b\b\b\b\b\r2175/2175 [==============================] - 91s 41ms/step - loss: 0.0587 - accuracy: 0.9817 - val_loss: 0.0931 - val_accuracy: 0.9750\n"
          ]
        }
      ]
    },
    {
      "cell_type": "code",
      "source": [
        "pd.DataFrame(history_4.history)[['loss', 'val_loss']].plot()"
      ],
      "metadata": {
        "colab": {
          "base_uri": "https://localhost:8080/",
          "height": 282
        },
        "id": "RwZgXdE4Y1Vr",
        "outputId": "a7d72d1e-62d3-4125-8b47-560da9f99e32"
      },
      "execution_count": 60,
      "outputs": [
        {
          "output_type": "execute_result",
          "data": {
            "text/plain": [
              "<matplotlib.axes._subplots.AxesSubplot at 0x7ff813c557c0>"
            ]
          },
          "metadata": {},
          "execution_count": 60
        },
        {
          "output_type": "display_data",
          "data": {
            "text/plain": [
              "<Figure size 432x288 with 1 Axes>"
            ],
            "image/png": "[encoded data removed]"
          },
          "metadata": {
            "needs_background": "light"
          }
        }
      ]
    },
    {
      "cell_type": "code",
      "source": [
        "pd.DataFrame(history_4.history)[['accuracy', 'val_accuracy']].plot()"
      ],
      "metadata": {
        "colab": {
          "base_uri": "https://localhost:8080/",
          "height": 282
        },
        "id": "yNlYI850Y9MQ",
        "outputId": "81adcb6f-8b02-4fcb-e167-7f1999918aca"
      },
      "execution_count": 61,
      "outputs": [
        {
          "output_type": "execute_result",
          "data": {
            "text/plain": [
              "<matplotlib.axes._subplots.AxesSubplot at 0x7ff821b0b3a0>"
            ]
          },
          "metadata": {},
          "execution_count": 61
        },
        {
          "output_type": "display_data",
          "data": {
            "text/plain": [
              "<Figure size 432x288 with 1 Axes>"
            ],
            "image/png": "[encoded data removed]"
          },
          "metadata": {
            "needs_background": "light"
          }
        }
      ]
    }
  ]
}